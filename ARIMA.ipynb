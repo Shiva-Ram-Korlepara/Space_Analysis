{
 "cells": [
  {
   "cell_type": "code",
   "execution_count": 3,
   "id": "9cbd8807-a22a-4290-8ca4-92b237d4ad23",
   "metadata": {},
   "outputs": [],
   "source": [
    "import pandas as pd"
   ]
  },
  {
   "cell_type": "code",
   "execution_count": 4,
   "id": "21684f33-9d14-4a8e-9bf8-2648c9c9db46",
   "metadata": {},
   "outputs": [],
   "source": [
    "k2_train = pd.read_csv('Datasets/Kepler/exoTrain.csv')\n",
    "k2_test = pd.read_csv('Datasets/Kepler/exoTest.csv')"
   ]
  },
  {
   "cell_type": "code",
   "execution_count": null,
   "id": "1fd8f519-8c25-48ba-a281-fa560e97c547",
   "metadata": {},
   "outputs": [],
   "source": []
  }
 ],
 "metadata": {
  "kernelspec": {
   "display_name": "Python 3 (ipykernel)",
   "language": "python",
   "name": "python3"
  },
  "language_info": {
   "codemirror_mode": {
    "name": "ipython",
    "version": 3
   },
   "file_extension": ".py",
   "mimetype": "text/x-python",
   "name": "python",
   "nbconvert_exporter": "python",
   "pygments_lexer": "ipython3",
   "version": "3.12.2"
  }
 },
 "nbformat": 4,
 "nbformat_minor": 5
}

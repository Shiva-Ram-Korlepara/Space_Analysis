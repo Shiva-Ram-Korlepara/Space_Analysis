{
 "cells": [
  {
   "cell_type": "code",
   "execution_count": 2,
   "id": "c1ccaad9-a644-4fce-81dd-dfde9691eed7",
   "metadata": {},
   "outputs": [],
   "source": [
    "import numpy as np\n",
    "import pandas as pd\n",
    "import torch\n",
    "import torch.nn as nn\n",
    "import torch.optim as optim\n",
    "from sklearn.model_selection import train_test_split\n",
    "from sklearn.preprocessing import StandardScaler, LabelEncoder\n",
    "from torch.utils.data import DataLoader, TensorDataset"
   ]
  },
  {
   "cell_type": "code",
   "execution_count": 14,
   "id": "95a95895-7b4b-4d89-8925-b512203291dc",
   "metadata": {},
   "outputs": [],
   "source": [
    "file_path = \"C:/Naman/Programming/AI Craft/exoTrain.csv\"\n",
    "df = pd.read_csv(file_path)"
   ]
  },
  {
   "cell_type": "code",
   "execution_count": 15,
   "id": "be0b0090-c59e-45ce-883d-aec6fc3f763c",
   "metadata": {},
   "outputs": [],
   "source": [
    "# Extract features and labels\n",
    "X = df.iloc[:, 1:].values  # Flux values\n",
    "y = df.iloc[:, 0].values   # Labels"
   ]
  },
  {
   "cell_type": "code",
   "execution_count": 16,
   "id": "61158a01-b139-4524-8f04-62b8cab6157e",
   "metadata": {},
   "outputs": [],
   "source": [
    "# Encode labels\n",
    "label_encoder = LabelEncoder()\n",
    "y = label_encoder.fit_transform(y)"
   ]
  },
  {
   "cell_type": "code",
   "execution_count": 17,
   "id": "6fb273d4-4231-4cd9-90c6-b3b453aedd2c",
   "metadata": {},
   "outputs": [],
   "source": [
    "# Normalize features\n",
    "scaler = StandardScaler()\n",
    "X = scaler.fit_transform(X)"
   ]
  },
  {
   "cell_type": "code",
   "execution_count": 18,
   "id": "1be4c16a-57d5-4e76-baa3-a9d2bfe9c8c2",
   "metadata": {},
   "outputs": [],
   "source": [
    "# Reshape input for LSTM (samples, time steps, features)\n",
    "X = X.reshape((X.shape[0], X.shape[1], 1))"
   ]
  },
  {
   "cell_type": "code",
   "execution_count": 19,
   "id": "6eeeae6b-1a79-459a-bb27-f9c6058b2a4b",
   "metadata": {},
   "outputs": [],
   "source": [
    "# Convert to PyTorch tensors\n",
    "X_tensor = torch.tensor(X, dtype=torch.float32)\n",
    "y_tensor = torch.tensor(y, dtype=torch.float32)"
   ]
  },
  {
   "cell_type": "code",
   "execution_count": 20,
   "id": "7487002f-cab6-4dd4-8235-8454f52f2642",
   "metadata": {},
   "outputs": [],
   "source": [
    "# Split data\n",
    "X_train, X_test, y_train, y_test = train_test_split(X_tensor, y_tensor, test_size=0.2, random_state=42)"
   ]
  },
  {
   "cell_type": "code",
   "execution_count": 21,
   "id": "91cb27e1-9fc7-4049-8f4b-9c7c24840d1c",
   "metadata": {},
   "outputs": [],
   "source": [
    "# Create DataLoaders\n",
    "batch_size = 32\n",
    "train_dataset = TensorDataset(X_train, y_train)\n",
    "test_dataset = TensorDataset(X_test, y_test)\n",
    "train_loader = DataLoader(train_dataset, batch_size=batch_size, shuffle=True)\n",
    "test_loader = DataLoader(test_dataset, batch_size=batch_size, shuffle=False)"
   ]
  },
  {
   "cell_type": "code",
   "execution_count": 22,
   "id": "e06b10e7-32ff-442e-98c1-7df882dc2eb0",
   "metadata": {},
   "outputs": [],
   "source": [
    "# Define LSTM model\n",
    "class LSTMModel(nn.Module):\n",
    "    def __init__(self, input_size, hidden_size, num_layers, output_size):\n",
    "        super(LSTMModel, self).__init__()\n",
    "        self.lstm = nn.LSTM(input_size, hidden_size, num_layers, batch_first=True)\n",
    "        self.fc = nn.Linear(hidden_size, output_size)\n",
    "        self.dropout = nn.Dropout(0.2)\n",
    "\n",
    "    def forward(self, x):\n",
    "        lstm_out, _ = self.lstm(x)\n",
    "        x = self.dropout(lstm_out[:, -1, :])\n",
    "        x = self.fc(x)\n",
    "        return torch.sigmoid(x)"
   ]
  },
  {
   "cell_type": "code",
   "execution_count": 23,
   "id": "c174cd5e-2b60-4468-bad0-ad13bbbc0e04",
   "metadata": {},
   "outputs": [],
   "source": [
    "# Model parameters\n",
    "input_size = 1\n",
    "hidden_size = 64\n",
    "num_layers = 2\n",
    "output_size = 1"
   ]
  },
  {
   "cell_type": "code",
   "execution_count": 24,
   "id": "2303e841-3743-409a-b137-c707f8714be6",
   "metadata": {},
   "outputs": [
    {
     "name": "stdout",
     "output_type": "stream",
     "text": [
      "Epoch [1/50], Loss: 0.0059\n",
      "Epoch [2/50], Loss: 0.0101\n",
      "Epoch [3/50], Loss: 0.0054\n",
      "Epoch [4/50], Loss: 0.0104\n",
      "Epoch [5/50], Loss: 0.0066\n",
      "Epoch [6/50], Loss: 0.0046\n",
      "Epoch [7/50], Loss: 0.0079\n",
      "Epoch [8/50], Loss: 0.0076\n",
      "Epoch [9/50], Loss: 0.0055\n",
      "Epoch [10/50], Loss: 0.0049\n",
      "Epoch [11/50], Loss: 0.0079\n",
      "Epoch [12/50], Loss: 0.0088\n",
      "Epoch [13/50], Loss: 0.9400\n",
      "Epoch [14/50], Loss: 0.0077\n",
      "Epoch [15/50], Loss: 0.0081\n",
      "Epoch [16/50], Loss: 0.0046\n",
      "Epoch [17/50], Loss: 0.0102\n",
      "Epoch [18/50], Loss: 0.0099\n",
      "Epoch [19/50], Loss: 0.0058\n",
      "Epoch [20/50], Loss: 0.0079\n",
      "Epoch [21/50], Loss: 0.0080\n",
      "Epoch [22/50], Loss: 0.0065\n",
      "Epoch [23/50], Loss: 0.0080\n",
      "Epoch [24/50], Loss: 0.0094\n",
      "Epoch [25/50], Loss: 0.0062\n",
      "Epoch [26/50], Loss: 0.0062\n",
      "Epoch [27/50], Loss: 0.0061\n",
      "Epoch [28/50], Loss: 0.0058\n",
      "Epoch [29/50], Loss: 0.0054\n",
      "Epoch [30/50], Loss: 0.0069\n",
      "Epoch [31/50], Loss: 0.0056\n",
      "Epoch [32/50], Loss: 0.0071\n",
      "Epoch [33/50], Loss: 0.0058\n",
      "Epoch [34/50], Loss: 0.0052\n",
      "Epoch [35/50], Loss: 0.0075\n",
      "Epoch [36/50], Loss: 0.0052\n",
      "Epoch [37/50], Loss: 0.0041\n",
      "Epoch [38/50], Loss: 0.0064\n",
      "Epoch [39/50], Loss: 1.0551\n",
      "Epoch [40/50], Loss: 0.0068\n",
      "Epoch [41/50], Loss: 0.0077\n",
      "Epoch [42/50], Loss: 0.0052\n",
      "Epoch [43/50], Loss: 0.0069\n",
      "Epoch [44/50], Loss: 0.0068\n",
      "Epoch [45/50], Loss: 0.0093\n",
      "Epoch [46/50], Loss: 0.0108\n",
      "Epoch [47/50], Loss: 0.0064\n",
      "Epoch [48/50], Loss: 0.0082\n",
      "Epoch [49/50], Loss: 0.0062\n",
      "Epoch [50/50], Loss: 0.0095\n",
      "Test Accuracy: 0.9921\n"
     ]
    }
   ],
   "source": [
    "# Initialize model\n",
    "model = LSTMModel(input_size, hidden_size, num_layers, output_size)\n",
    "\n",
    "# Define loss function and optimizer\n",
    "criterion = nn.BCELoss()\n",
    "optimizer = optim.Adam(model.parameters(), lr=0.001)\n",
    "\n",
    "# Train model\n",
    "epochs = 50\n",
    "for epoch in range(epochs):\n",
    "    model.train()\n",
    "    for batch_X, batch_y in train_loader:\n",
    "        optimizer.zero_grad()\n",
    "        outputs = model(batch_X)\n",
    "        loss = criterion(outputs.squeeze(), batch_y)\n",
    "        loss.backward()\n",
    "        optimizer.step()\n",
    "    print(f\"Epoch [{epoch+1}/{epochs}], Loss: {loss.item():.4f}\")\n",
    "\n",
    "# Evaluate model\n",
    "model.eval()\n",
    "correct, total = 0, 0\n",
    "with torch.no_grad():\n",
    "    for batch_X, batch_y in test_loader:\n",
    "        outputs = model(batch_X).squeeze()\n",
    "        predicted = (outputs > 0.5).float()\n",
    "        total += batch_y.size(0)\n",
    "        correct += (predicted == batch_y).sum().item()\n",
    "\n",
    "print(f\"Test Accuracy: {correct / total:.4f}\")"
   ]
  },
  {
   "cell_type": "code",
   "execution_count": null,
   "id": "7ddcfd60-2913-4c83-ba1c-109b8b3b9be8",
   "metadata": {},
   "outputs": [],
   "source": []
  },
  {
   "cell_type": "code",
   "execution_count": null,
   "id": "fd4772bd-a9f9-4ee0-af80-e39b35186c91",
   "metadata": {},
   "outputs": [],
   "source": []
  }
 ],
 "metadata": {
  "kernelspec": {
   "display_name": "Python 3 (ipykernel)",
   "language": "python",
   "name": "python3"
  },
  "language_info": {
   "codemirror_mode": {
    "name": "ipython",
    "version": 3
   },
   "file_extension": ".py",
   "mimetype": "text/x-python",
   "name": "python",
   "nbconvert_exporter": "python",
   "pygments_lexer": "ipython3",
   "version": "3.12.4"
  }
 },
 "nbformat": 4,
 "nbformat_minor": 5
}
